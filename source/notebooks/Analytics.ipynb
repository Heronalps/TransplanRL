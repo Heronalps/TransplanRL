{
 "cells": [
  {
   "cell_type": "code",
   "execution_count": 21,
   "metadata": {},
   "outputs": [],
   "source": [
    "import pandas as pd\n",
    "import numpy as np\n",
    "import matplotlib.pyplot as plt\n",
    "from datetime import datetime \n",
    "from dateutil.parser import parse"
   ]
  },
  {
   "cell_type": "code",
   "execution_count": 81,
   "metadata": {},
   "outputs": [],
   "source": [
    "# This function plots the grid of distributions\n",
    "# Options of columns: WorkTimeInSeconds, ResponseTime, TotalTime\n",
    "\n",
    "def plot_dist(col='WorkTimeInSeconds'):\n",
    "    figure = plt.figure(figsize=(10, 10))\n",
    "    counter = 1\n",
    "    for lang in lang_list:\n",
    "        df = df_dict[\"df_exp1_{}\".format(lang)]\n",
    "        figure.add_subplot(3, 2, counter)\n",
    "        plt.hist(df[col])\n",
    "        counter = counter + 1"
   ]
  },
  {
   "cell_type": "code",
   "execution_count": 13,
   "metadata": {},
   "outputs": [],
   "source": [
    "# This function prints basic stats of a column\n",
    "\n",
    "def print_stats(col='ResponseTime'):\n",
    "    for lang in lang_list:\n",
    "        print (\"==============\")\n",
    "        print (\"The stats of {}\".format(lang))\n",
    "        df = df_dict[\"df_exp1_{}\".format(lang)]\n",
    "        print (\"Number of samples: \", len(df[col]))\n",
    "        print (\"Mean: \", df[col].mean())\n",
    "        print (\"STD: \", df[col].std())\n",
    "        print (\"Max: \", df[col].max())\n",
    "        print (\"Min: \", df[col].min())"
   ]
  },
  {
   "cell_type": "code",
   "execution_count": 4,
   "metadata": {},
   "outputs": [],
   "source": [
    "# Based on the histogram, working time on translations is inline with Exponential / Pareto Distribution\n",
    "# This function synthesize distributions(i.e. Pareto, Gaussian)\n",
    "\n",
    "def synthesize(dist=\"Gaussian\", sample_size=1000, parameters={}):\n",
    "    if dist == \"Gaussian\":\n",
    "        sample = np.random.normal(paramters['mean'], parameters['std'], sample_size)\n",
    "    elif dist == \"Pareto\":\n",
    "        sample = (np.random.pareto(parameters['shape'], sample_size) + 1) * parameters['scale']\n",
    "    return sample"
   ]
  },
  {
   "cell_type": "code",
   "execution_count": 41,
   "metadata": {},
   "outputs": [],
   "source": [
    "# This function fits the sample to distribution and returns parameters\n",
    "\n",
    "def fit_dist(samples, dist=\"Pareto\"):\n",
    "    parameters = {}\n",
    "    if (dist == \"Gaussian\"):\n",
    "        parameters['mean'] = samples.mean()\n",
    "        parameters['std'] = samples.std()\n",
    "    if (dist == \"Pareto\"):\n",
    "        parameters['scale'] = samples.min()\n",
    "        scale_array = np.full(shape=len(samples), fill_value=samples.min())\n",
    "        parameters['shape'] = len(samples)/(sum(np.log(samples/scale_array)))\n",
    "    return parameters"
   ]
  },
  {
   "cell_type": "code",
   "execution_count": null,
   "metadata": {},
   "outputs": [],
   "source": [
    "df_en_3 = pd.read_csv(\"../../data/EXP2_data/CSV/en-gb-3cents.csv\")"
   ]
  },
  {
   "cell_type": "code",
   "execution_count": null,
   "metadata": {},
   "outputs": [],
   "source": [
    "df_en_3.shape"
   ]
  },
  {
   "cell_type": "code",
   "execution_count": null,
   "metadata": {},
   "outputs": [],
   "source": [
    "df_en_3.head(100)"
   ]
  },
  {
   "cell_type": "code",
   "execution_count": null,
   "metadata": {
    "scrolled": true
   },
   "outputs": [],
   "source": [
    "df_en_3.columns"
   ]
  },
  {
   "cell_type": "code",
   "execution_count": 44,
   "metadata": {},
   "outputs": [],
   "source": [
    "lang_list = ['EN_GB', 'AR_SA', 'DE_DE', 'ES_MX', 'FR_FR']\n",
    "df_dict = dict()\n",
    "for lang in lang_list:\n",
    "    df_dict[\"df_exp1_{}\".format(lang)] = pd.read_excel(\"../../data/EXP1_data/EXP2_{}.xlsx\".format(lang))\n"
   ]
  },
  {
   "cell_type": "code",
   "execution_count": 9,
   "metadata": {},
   "outputs": [],
   "source": [
    "# Mean and STD of time\n",
    "work_time_secs = df_exp1_en.WorkTimeInSeconds\n"
   ]
  },
  {
   "cell_type": "code",
   "execution_count": 22,
   "metadata": {},
   "outputs": [
    {
     "data": {
      "text/plain": [
       "146.0"
      ]
     },
     "execution_count": 22,
     "metadata": {},
     "output_type": "execute_result"
    }
   ],
   "source": [
    "(parse(df_exp1_en.AcceptTime[0]) - parse(df_exp1_en.CreationTime[0])).total_seconds()"
   ]
  },
  {
   "cell_type": "code",
   "execution_count": 50,
   "metadata": {},
   "outputs": [
    {
     "data": {
      "image/png": "[encoded data removed]",
      "text/plain": [
       "<Figure size 432x288 with 1 Axes>"
      ]
     },
     "metadata": {
      "needs_background": "light"
     },
     "output_type": "display_data"
    }
   ],
   "source": [
    "for lang in lang_list:\n",
    "    df = df_dict[\"df_exp1_{}\".format(lang)]\n",
    "    df['ResponseTime'] = df.apply(lambda row: (parse(row['AcceptTime']) - parse(row['CreationTime'])).total_seconds(), axis=1)\n",
    "    #_ = plt.hist(df['ResponseTime'], bins='auto')"
   ]
  },
  {
   "cell_type": "code",
   "execution_count": 53,
   "metadata": {},
   "outputs": [
    {
     "data": {
      "image/png": "[encoded data removed]",
      "text/plain": [
       "<Figure size 432x288 with 1 Axes>"
      ]
     },
     "metadata": {
      "needs_background": "light"
     },
     "output_type": "display_data"
    }
   ],
   "source": [
    "_ = plt.hist(df_dict['df_exp1_FR_FR']['ResponseTime'], bins='auto')\n",
    "_ = plt.hist(df_dict['df_exp1_AR_SA']['ResponseTime'], bins='auto')\n"
   ]
  },
  {
   "cell_type": "code",
   "execution_count": 58,
   "metadata": {},
   "outputs": [
    {
     "name": "stdout",
     "output_type": "stream",
     "text": [
      "94808.0\n",
      "42494.0\n",
      "74662.0\n",
      "18591.0\n",
      "64644.0\n"
     ]
    }
   ],
   "source": [
    "print (df_dict['df_exp1_AR_SA']['ResponseTime'].max())\n",
    "print (df_dict['df_exp1_EN_GB']['ResponseTime'].max())\n",
    "print (df_dict['df_exp1_DE_DE']['ResponseTime'].max())\n",
    "print (df_dict['df_exp1_ES_MX']['ResponseTime'].max())\n",
    "print (df_dict['df_exp1_FR_FR']['ResponseTime'].max())"
   ]
  },
  {
   "cell_type": "code",
   "execution_count": 59,
   "metadata": {},
   "outputs": [
    {
     "name": "stdout",
     "output_type": "stream",
     "text": [
      "30801.170833333334\n",
      "11451.319\n",
      "49055.197\n",
      "6647.059\n",
      "19400.056\n"
     ]
    }
   ],
   "source": [
    "print (df_dict['df_exp1_AR_SA']['ResponseTime'].mean())\n",
    "print (df_dict['df_exp1_EN_GB']['ResponseTime'].mean())\n",
    "print (df_dict['df_exp1_DE_DE']['ResponseTime'].mean())\n",
    "print (df_dict['df_exp1_ES_MX']['ResponseTime'].mean())\n",
    "print (df_dict['df_exp1_FR_FR']['ResponseTime'].mean())"
   ]
  },
  {
   "cell_type": "code",
   "execution_count": 55,
   "metadata": {},
   "outputs": [
    {
     "data": {
      "image/png": "[encoded data removed]",
      "text/plain": [
       "<Figure size 432x288 with 1 Axes>"
      ]
     },
     "metadata": {
      "needs_background": "light"
     },
     "output_type": "display_data"
    }
   ],
   "source": [
    "_ = plt.hist(df_dict['df_exp1_EN_GB']['ResponseTime'], bins='auto')\n",
    "_ = plt.hist(df_dict['df_exp1_DE_DE']['ResponseTime'], bins='auto')"
   ]
  },
  {
   "cell_type": "code",
   "execution_count": 56,
   "metadata": {},
   "outputs": [
    {
     "data": {
      "image/png": "[encoded data removed]",
      "text/plain": [
       "<Figure size 432x288 with 1 Axes>"
      ]
     },
     "metadata": {
      "needs_background": "light"
     },
     "output_type": "display_data"
    }
   ],
   "source": [
    "_ = plt.hist(df_dict['df_exp1_ES_MX']['ResponseTime'], bins='auto')"
   ]
  },
  {
   "cell_type": "code",
   "execution_count": 60,
   "metadata": {},
   "outputs": [
    {
     "name": "stdout",
     "output_type": "stream",
     "text": [
      "941\n",
      "2935\n",
      "2991\n",
      "3574\n",
      "1598\n"
     ]
    }
   ],
   "source": [
    "print (df_dict['df_exp1_AR_SA']['WorkTimeInSeconds'].max())\n",
    "print (df_dict['df_exp1_EN_GB']['WorkTimeInSeconds'].max())\n",
    "print (df_dict['df_exp1_DE_DE']['WorkTimeInSeconds'].max())\n",
    "print (df_dict['df_exp1_ES_MX']['WorkTimeInSeconds'].max())\n",
    "print (df_dict['df_exp1_FR_FR']['WorkTimeInSeconds'].max())"
   ]
  },
  {
   "cell_type": "code",
   "execution_count": 62,
   "metadata": {},
   "outputs": [
    {
     "data": {
      "image/png": "[encoded data removed]",
      "text/plain": [
       "<Figure size 432x288 with 1 Axes>"
      ]
     },
     "metadata": {
      "needs_background": "light"
     },
     "output_type": "display_data"
    }
   ],
   "source": [
    "_ = plt.hist(df_dict['df_exp1_AR_SA']['WorkTimeInSeconds'])"
   ]
  },
  {
   "cell_type": "code",
   "execution_count": 63,
   "metadata": {},
   "outputs": [
    {
     "data": {
      "image/png": "[encoded data removed]",
      "text/plain": [
       "<Figure size 432x288 with 1 Axes>"
      ]
     },
     "metadata": {
      "needs_background": "light"
     },
     "output_type": "display_data"
    }
   ],
   "source": [
    "_ = plt.hist(df_dict['df_exp1_FR_FR']['WorkTimeInSeconds'])"
   ]
  },
  {
   "cell_type": "code",
   "execution_count": 64,
   "metadata": {},
   "outputs": [
    {
     "data": {
      "image/png": "[encoded data removed]",
      "text/plain": [
       "<Figure size 432x288 with 1 Axes>"
      ]
     },
     "metadata": {
      "needs_background": "light"
     },
     "output_type": "display_data"
    }
   ],
   "source": [
    "_ = plt.hist(df_dict['df_exp1_EN_GB']['WorkTimeInSeconds'])"
   ]
  },
  {
   "cell_type": "code",
   "execution_count": 65,
   "metadata": {},
   "outputs": [
    {
     "data": {
      "image/png": "[encoded data removed]",
      "text/plain": [
       "<Figure size 432x288 with 1 Axes>"
      ]
     },
     "metadata": {
      "needs_background": "light"
     },
     "output_type": "display_data"
    }
   ],
   "source": [
    "_ = plt.hist(df_dict['df_exp1_ES_MX']['WorkTimeInSeconds'])"
   ]
  },
  {
   "cell_type": "code",
   "execution_count": 66,
   "metadata": {},
   "outputs": [
    {
     "data": {
      "image/png": "[encoded data removed]",
      "text/plain": [
       "<Figure size 432x288 with 1 Axes>"
      ]
     },
     "metadata": {
      "needs_background": "light"
     },
     "output_type": "display_data"
    }
   ],
   "source": [
    "_ = plt.hist(df_dict['df_exp1_DE_DE']['WorkTimeInSeconds'])"
   ]
  },
  {
   "cell_type": "code",
   "execution_count": 67,
   "metadata": {},
   "outputs": [],
   "source": [
    "for lang in lang_list:\n",
    "    df = df_dict[\"df_exp1_{}\".format(lang)]\n",
    "    df['TotalTime'] = df.apply(lambda row: row['WorkTimeInSeconds'] + row['ResponseTime'], axis=1)\n",
    "    "
   ]
  },
  {
   "cell_type": "code",
   "execution_count": 84,
   "metadata": {},
   "outputs": [
    {
     "data": {
      "image/png": "[encoded data removed]",
      "text/plain": [
       "<Figure size 720x720 with 5 Axes>"
      ]
     },
     "metadata": {
      "needs_background": "light"
     },
     "output_type": "display_data"
    }
   ],
   "source": [
    "plot_dist('TotalTime')"
   ]
  },
  {
   "cell_type": "code",
   "execution_count": 8,
   "metadata": {
    "scrolled": true
   },
   "outputs": [
    {
     "name": "stdout",
     "output_type": "stream",
     "text": [
      "mean:  37.837\n",
      "STD:  117.28881915211741\n",
      "Max:  2935\n",
      "Min:  3\n"
     ]
    }
   ],
   "source": [
    "print (\"mean: \", work_time_secs.mean())\n",
    "print (\"STD: \", work_time_secs.std())\n",
    "print (\"Max: \", work_time_secs.max())\n",
    "print (\"Min: \", work_time_secs.min())\n"
   ]
  },
  {
   "cell_type": "code",
   "execution_count": 39,
   "metadata": {},
   "outputs": [
    {
     "name": "stdout",
     "output_type": "stream",
     "text": [
      "{'scale': 10.202026379662264, 'shape': 0.8252888540311597}\n"
     ]
    }
   ],
   "source": [
    "print (fit_dist(samples, \"Pareto\"))"
   ]
  },
  {
   "cell_type": "code",
   "execution_count": 25,
   "metadata": {},
   "outputs": [
    {
     "data": {
      "text/plain": [
       "10.202026379662264"
      ]
     },
     "execution_count": 25,
     "metadata": {},
     "output_type": "execute_result"
    }
   ],
   "source": [
    "samples.min()"
   ]
  },
  {
   "cell_type": "code",
   "execution_count": 8,
   "metadata": {},
   "outputs": [],
   "source": [
    "samples = synthesize(\"Pareto\", 100, {\"shape\":1, \"scale\":10})"
   ]
  },
  {
   "cell_type": "code",
   "execution_count": null,
   "metadata": {},
   "outputs": [],
   "source": [
    "normal_samples = synthesize(\"Gaussian\", 100, {\"mean\"})"
   ]
  },
  {
   "cell_type": "code",
   "execution_count": 12,
   "metadata": {},
   "outputs": [
    {
     "data": {
      "image/png": "[encoded data removed]",
      "text/plain": [
       "<Figure size 432x288 with 1 Axes>"
      ]
     },
     "metadata": {
      "needs_background": "light"
     },
     "output_type": "display_data"
    }
   ],
   "source": [
    "_ = plt.hist(samples)"
   ]
  },
  {
   "cell_type": "code",
   "execution_count": 100,
   "metadata": {
    "collapsed": true
   },
   "outputs": [
    {
     "name": "stdout",
     "output_type": "stream",
     "text": [
      "==============\n",
      "The stats of EN_GB\n",
      "Number of samples:  1000\n",
      "Mean:  11451.319\n",
      "STD:  11600.641392524683\n",
      "Max:  42494.0\n",
      "Min:  74.0\n",
      "==============\n",
      "The stats of AR_SA\n",
      "Number of samples:  240\n",
      "Mean:  30801.170833333334\n",
      "STD:  27153.261545080506\n",
      "Max:  94808.0\n",
      "Min:  64.0\n",
      "==============\n",
      "The stats of DE_DE\n",
      "Number of samples:  1000\n",
      "Mean:  49055.197\n",
      "STD:  22523.27355007712\n",
      "Max:  74662.0\n",
      "Min:  34.0\n",
      "==============\n",
      "The stats of ES_MX\n",
      "Number of samples:  1000\n",
      "Mean:  6647.059\n",
      "STD:  3918.862317482254\n",
      "Max:  18591.0\n",
      "Min:  46.0\n",
      "==============\n",
      "The stats of FR_FR\n",
      "Number of samples:  1000\n",
      "Mean:  19400.056\n",
      "STD:  15525.20325364313\n",
      "Max:  64644.0\n",
      "Min:  149.0\n"
     ]
    }
   ],
   "source": [
    "print_stats()"
   ]
  },
  {
   "cell_type": "code",
   "execution_count": null,
   "metadata": {},
   "outputs": [],
   "source": []
  },
  {
   "cell_type": "code",
   "execution_count": null,
   "metadata": {},
   "outputs": [],
   "source": []
  }
 ],
 "metadata": {
  "kernelspec": {
   "display_name": "Python 3",
   "language": "python",
   "name": "python3"
  },
  "language_info": {
   "codemirror_mode": {
    "name": "ipython",
    "version": 3
   },
   "file_extension": ".py",
   "mimetype": "text/x-python",
   "name": "python",
   "nbconvert_exporter": "python",
   "pygments_lexer": "ipython3",
   "version": "3.7.3"
  }
 },
 "nbformat": 4,
 "nbformat_minor": 2
}
